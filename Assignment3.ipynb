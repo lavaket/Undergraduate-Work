{
 "cells": [
  {
   "cell_type": "code",
   "execution_count": 7,
   "metadata": {},
   "outputs": [
    {
     "name": "stdout",
     "output_type": "stream",
     "text": [
      "Training accuracy: 1.0\n",
      "Predictions saved to my_predictions_saved.csv\n"
     ]
    }
   ],
   "source": [
    "import pandas as pd\n",
    "\n",
    "train_df = pd.read_csv(\"prediction_challenge_train.csv\")\n",
    "test_df = pd.read_csv(\"prediction_challenge_test.csv\")\n",
    "airport_df = pd.read_csv(\"airport_country_code_mapping.csv\")\n",
    "\n",
    "\n",
    "train_df = pd.merge(train_df, airport_df, on=\"Airport Country Code\", how=\"left\")\n",
    "test_df = pd.merge(test_df, airport_df, on=\"Airport Country Code\", how=\"left\")\n",
    "\n",
    "train_df[\"Departure Date\"] = pd.to_datetime(train_df[\"Departure Date\"], errors=\"coerce\")\n",
    "train_df[\"Dep Day\"] = train_df[\"Departure Date\"].dt.day\n",
    "train_df[\"Dep Month\"] = train_df[\"Departure Date\"].dt.month\n",
    "train_df[\"Dep Year\"] = train_df[\"Departure Date\"].dt.year\n",
    "\n",
    "test_df[\"Departure Date\"] = pd.to_datetime(test_df[\"Departure Date\"], errors=\"coerce\")\n",
    "test_df[\"Dep Day\"] = test_df[\"Departure Date\"].dt.day\n",
    "test_df[\"Dep Month\"] = test_df[\"Departure Date\"].dt.month\n",
    "test_df[\"Dep Year\"] = test_df[\"Departure Date\"].dt.year\n",
    "\n",
    "\n",
    "def apply_remaining_rules(row):\n",
    "    if row[\"Dep Month\"] == 1 or row[\"Dep Month\"] == 12:\n",
    "        return \"Yes\"\n",
    "    \n",
    "    if (row[\"Gender\"] == \"Female\" and (row[\"Ticket Price\"] % 4 == 0)):\n",
    "        return \"Yes\"\n",
    "    \n",
    "    if row[\"Country Name\"] == row[\"Nationality\"]:\n",
    "        return \"Yes\"\n",
    "    \n",
    "    return \"No\"\n",
    "\n",
    "\n",
    "age_mask_train = (train_df[\"Age\"] < 5) | (train_df[\"Age\"] > 85)\n",
    "train_df.loc[age_mask_train, \"Predicted\"] = \"Yes\"\n",
    "\n",
    "remaining_mask_train = ~age_mask_train\n",
    "train_df.loc[remaining_mask_train, \"Predicted\"] = train_df[remaining_mask_train].apply(apply_remaining_rules, axis=1)\n",
    "\n",
    "accuracy = (train_df[\"Predicted\"] == train_df[\"Eligible_For_Discount\"]).mean()\n",
    "print(\"Training accuracy:\", accuracy)\n",
    "\n",
    "\n",
    "age_mask_test = (test_df[\"Age\"] < 5) | (test_df[\"Age\"] > 85)\n",
    "test_df[\"Eligible_For_Discount\"] = test_df[\"Eligible_For_Discount\"].astype(object)\n",
    "test_df.loc[age_mask_test, \"Eligible_For_Discount\"] = \"Yes\"\n",
    "\n",
    "remaining_mask_test = ~age_mask_test\n",
    "test_df.loc[remaining_mask_test, \"Eligible_For_Discount\"] = test_df[remaining_mask_test].apply(apply_remaining_rules, axis=1)\n",
    "\n",
    "test_df.to_csv(\"prediction_challenge_test_predictions.csv\", index=False)\n",
    "\n",
    "submission = test_df[['ID', 'Eligible_For_Discount']]\n",
    "submission.to_csv('my_predictions_saved.csv', index=False)\n",
    "print(\"Predictions saved to my_predictions_saved.csv\")"
   ]
  }
 ],
 "metadata": {
  "kernelspec": {
   "display_name": "Python 3",
   "language": "python",
   "name": "python3"
  },
  "language_info": {
   "codemirror_mode": {
    "name": "ipython",
    "version": 3
   },
   "file_extension": ".py",
   "mimetype": "text/x-python",
   "name": "python",
   "nbconvert_exporter": "python",
   "pygments_lexer": "ipython3",
   "version": "3.9.6"
  }
 },
 "nbformat": 4,
 "nbformat_minor": 2
}
